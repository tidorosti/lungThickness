{
 "cells": [
  {
   "cell_type": "markdown",
   "metadata": {},
   "source": [
    "## Cone-beam Forward Projection for Synthetic Radiograph Simulation"
   ]
  },
  {
   "cell_type": "markdown",
   "metadata": {},
   "source": [
    "@authors M. Schultheiss, T. Dorosti\n",
    "\n",
    "#### Dependencies:\n",
    "- astra-toolbox (version 2.1.3)\n",
    "- lungmask (version 0.2.20)\n",
    "- xraylib (version 4.1.3)\n",
    "- spekpy (version 2.0.1)"
   ]
  },
  {
   "cell_type": "markdown",
   "metadata": {},
   "source": [
    "#### Outline:\n",
    "```   \n",
    "       \n",
    "0     1\n",
    "  |  /\n",
    "  | /\n",
    "  |______ 2\n",
    "```\n",
    "1. Get CT Volume and voxel size\n",
    "2. Forward Project along  axis 1 in graphic above"
   ]
  },
  {
   "cell_type": "code",
   "execution_count": null,
   "metadata": {},
   "outputs": [],
   "source": [
    "import numpy as np\n",
    "import os\n",
    "import pandas as pd\n",
    "import math\n",
    "import h5py\n",
    "import matplotlib.pyplot as plt\n",
    "import random\n",
    "\n",
    "import astra\n",
    "import xraylib as xr\n",
    "import spekpy as sp\n",
    "from lungmask import mask # Note: lungmask can use GPU for faster calculations (via torch)\n",
    "import torch\n",
    "\n",
    "from skimage.transform import rescale, resize\n",
    "from configuration_paper import CURRENT_GPU, POSITION, CURRENT_CONFIG, PATH_SERVER_CACHE\n",
    "from spectrum_tools import get_attenuation\n",
    "from lib_polychromsimulation import *\n",
    "from functions import segment_body_from_vol, getScaleFactor, generateSims, save_dataSplitCsv"
   ]
  },
  {
   "cell_type": "code",
   "execution_count": null,
   "metadata": {},
   "outputs": [],
   "source": [
    "# if GPU available, use for astra and lungmaks: \n",
    "os.environ[\"CUDA_DEVICE_ORDER\"]=\"PCI_BUS_ID\"\n",
    "os.environ[\"CUDA_VISIBLE_DEVICES\"]=str(CURRENT_GPU)\n",
    "torch.cuda.is_available()"
   ]
  },
  {
   "cell_type": "markdown",
   "metadata": {},
   "source": [
    "### Luna16:"
   ]
  },
  {
   "cell_type": "code",
   "execution_count": null,
   "metadata": {},
   "outputs": [],
   "source": [
    "dataset_name = 'luna16'\n",
    "pathCTs = '???'\n",
    "metadataPath='???'\n",
    "generateSims(metadataPath, PATH_SERVER_CACHE, dataset_name, POSITION, CURRENT_CONFIG, pathCTs)\n",
    "\n",
    "# get dataset split\n",
    "save_dataSplitCsv(PATH_SERVER_CACHE, dataset_name, POSITION, CURRENT_CONFIG)"
   ]
  },
  {
   "cell_type": "markdown",
   "metadata": {},
   "source": [
    "### PE:"
   ]
  },
  {
   "cell_type": "code",
   "execution_count": null,
   "metadata": {},
   "outputs": [],
   "source": [
    "dataset_name = 'PE'\n",
    "pathCTs = '???'\n",
    "metadataPath='???'\n",
    "generateSims(metadataPath, PATH_SERVER_CACHE, dataset_name, POSITION, CURRENT_CONFIG, pathCTs)\n",
    "\n",
    "# get dataset split\n",
    "save_dataSplitCsv(PATH_SERVER_CACHE, dataset_name, POSITION, CURRENT_CONFIG)"
   ]
  }
 ],
 "metadata": {
  "kernelspec": {
   "display_name": "Python 3 (ipykernel)",
   "language": "python",
   "name": "python3"
  },
  "language_info": {
   "codemirror_mode": {
    "name": "ipython",
    "version": 3
   },
   "file_extension": ".py",
   "mimetype": "text/x-python",
   "name": "python",
   "nbconvert_exporter": "python",
   "pygments_lexer": "ipython3",
   "version": "3.8.10"
  }
 },
 "nbformat": 4,
 "nbformat_minor": 4
}
