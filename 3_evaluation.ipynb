{
 "cells": [
  {
   "cell_type": "markdown",
   "metadata": {},
   "source": [
    "## Evaluation of the Trained Model for the Synthetic Public Data"
   ]
  },
  {
   "cell_type": "markdown",
   "metadata": {},
   "source": [
    "@author M. Schultheiß, T. Dorosti"
   ]
  },
  {
   "cell_type": "code",
   "execution_count": null,
   "metadata": {},
   "outputs": [],
   "source": [
    "import os\n",
    "import numpy as np\n",
    "import h5py\n",
    "from scipy import ndimage\n",
    "import matplotlib.pyplot as plt\n",
    "from skimage.transform import rescale, resize\n",
    "import pandas as pd\n",
    "import tensorflow as tf\n",
    "from tensorflow import keras\n",
    "from keras.models import load_model\n",
    "from scipy.stats import pearsonr\n",
    "\n",
    "from pyDeleClasses import Slice2D, Slice2DSet\n",
    "from configuration_paper import cparam, CURRENT_CONFIG, PATH_SERVER_CACHE, POSITION\n",
    "from functions import mse, made, get_metric, shapiro_wilk, dAgostino_pearson, anderson_darling, plotter, process_PE, getSyntheticData"
   ]
  },
  {
   "cell_type": "code",
   "execution_count": null,
   "metadata": {},
   "outputs": [],
   "source": [
    "os.environ[\"CUDA_DEVICE_ORDER\"]=\"PCI_BUS_ID\"\n",
    "os.environ[\"CUDA_VISIBLE_DEVICES\"]=''"
   ]
  },
  {
   "cell_type": "markdown",
   "metadata": {},
   "source": [
    "## 1. Load data:"
   ]
  },
  {
   "cell_type": "markdown",
   "metadata": {},
   "source": [
    "### 1a) Load Luna16 data"
   ]
  },
  {
   "cell_type": "code",
   "execution_count": null,
   "metadata": {},
   "outputs": [],
   "source": [
    "metadataPath = '???' # path to metadata .csv file\n",
    "dataset_name = 'luna16'\n",
    "test_split_luna = pd.read_csv('./splits/lungvolume_{}_test.csv'.format(dataset_name), header=None)\n",
    "radiograph_range = range(4, 5) # get only central projections for luna test set\n",
    "slices_luna = getSyntheticData(metadataPath, PATH_SERVER_CACHE, POSITION, dataset_name, CURRENT_CONFIG, radiograph_range)\n",
    "_, _, testx_luna, testy_luna, _, _  = slices_luna.split_data_by_csv(test_split_luna)\n",
    "print(\"Test Len\", len(testx_luna))"
   ]
  },
  {
   "cell_type": "code",
   "execution_count": null,
   "metadata": {},
   "outputs": [],
   "source": [
    "# save pixel spacing info for the test data for total volume calculation\n",
    "pixel_spacings_luna = []\n",
    "df_luna = pd.read_csv(metadataPath)\n",
    "\n",
    "for i in test_split_luna[0]:\n",
    "    for j in range(len(df_luna)):\n",
    "        if i == df_luna['identifier'][j]:\n",
    "            voxel_size_z = df_luna['spacing_0'][j]\n",
    "            pixel_spacings_luna.append([voxel_size_z])"
   ]
  },
  {
   "cell_type": "markdown",
   "metadata": {},
   "source": [
    "### 1b) Load PE data"
   ]
  },
  {
   "cell_type": "code",
   "execution_count": null,
   "metadata": {},
   "outputs": [],
   "source": [
    "metadataPath = '???' # path to metadata .csv file\n",
    "dataset_name = 'PE'\n",
    "test_split_PE = pd.read_csv('./splits/lungvolume_{}_test.csv'.format(dataset_name), header=None)\n",
    "radiograph_range = range(4, 5) # get only central projections for PE test set\n",
    "slices_PE = getSyntheticData(metadataPath, PATH_SERVER_CACHE, POSITION, dataset_name, CURRENT_CONFIG, radiograph_range)\n",
    "_, _, testx_PE, testy_PE, _, _  = slices_PE.split_data_by_csv(test_split_PE)\n",
    "print(\"Test Len\", len(testx_PE))"
   ]
  },
  {
   "cell_type": "code",
   "execution_count": null,
   "metadata": {},
   "outputs": [],
   "source": [
    "# get scale factor and pixel size lists for the test data:\n",
    "pixel_spacings_PE = []\n",
    "scale_factor_pre_PE =[]\n",
    "slices_z = []\n",
    "for i in test_split_PE[0]:\n",
    "    for j in range(len(df_PE)):\n",
    "        if int(i[:-5]) == int(df_PE['identifier'][j]):\n",
    "            voxel_size_z = df_PE['spacing_0'][j]\n",
    "            num_slices_z = len(df_PE[num_slices'][j].split(','))\n",
    "            voxel_size_x = float(df_PE['spacing_1'][j].split(',')[0][1:]) \n",
    "            voxel_size_y = float(df_PE['spacing_2'][j].split(',')[1][:-1])\n",
    "            num_slices_x = 512\n",
    "            z_total_mm = voxel_size_z * num_slices_z\n",
    "            x_total_mm = voxel_size_x * num_slices_x\n",
    "            pixel_spacings_PE.append([voxel_size_x, voxel_size_y, voxel_size_z])\n",
    "            slices_z.append(num_slices_z)\n",
    "            scale_factor_pre_PE.append(np.round(x_total_mm/z_total_mm, 3))\n",
    "        "
   ]
  },
  {
   "cell_type": "markdown",
   "metadata": {},
   "source": [
    "## 2. Load Model and predict:"
   ]
  },
  {
   "cell_type": "code",
   "execution_count": null,
   "metadata": {
    "scrolled": true
   },
   "outputs": [],
   "source": [
    "model = load_model('model_final.h5')"
   ]
  },
  {
   "cell_type": "markdown",
   "metadata": {},
   "source": [
    "### 2a) Predict on Luna test set:"
   ]
  },
  {
   "cell_type": "code",
   "execution_count": null,
   "metadata": {},
   "outputs": [],
   "source": [
    "predictions_luna = model.predict(np.array(testx_luna)[:,:,:,np.newaxis]).squeeze()\n",
    "gt_luna = np.array(testy_luna)\n",
    "gtx_luna=np.array(testx_luna)"
   ]
  },
  {
   "cell_type": "code",
   "execution_count": null,
   "metadata": {},
   "outputs": [],
   "source": [
    "# get total lung volume values\n",
    "scale_factor = 512/256 \n",
    "mag = (1800-120)/1800 #from  dicom data, standard for most ct scanners\n",
    "gt_vol_luna = [gt_luna[i].sum() * (pixel_spacings_luna[i][0]*scale_factor*mag)**2 *1e-6 for i in range(len(gt_luna))]\n",
    "pred_vol_luna = [predictions_luna[i].sum() * (pixel_spacings_luna[i][0]*scale_factor*mag)**2 *1e-6 for i in range(len(predictions_luna))]"
   ]
  },
  {
   "cell_type": "code",
   "execution_count": null,
   "metadata": {},
   "outputs": [],
   "source": [
    "# Check that data is from a normal distribution before getting 95% CI with all 3 test\n",
    "shapiro_wilk(gt_vol_luna), shapiro_wilk(pred_vol_luna), dAgostino_pearson(gt_vol_luna), dAgostino_pearson(pred_vol_luna),anderson_darling(gt_vol_luna), anderson_darling(pred_vol_luna)"
   ]
  },
  {
   "cell_type": "code",
   "execution_count": null,
   "metadata": {},
   "outputs": [],
   "source": [
    "# get metrics\n",
    "corr_luna, pvalue_luna = pearsonr(gt_vol_luna,pred_vol_luna)\n",
    "print(\"mean vol_gt = {:.3f}, mean vol_pred = {:.3f}\".format(np.mean(gt_vol_luna), np.mean(pred_vol_luna)))\n",
    "print('95% CI for mean vol_gt = {:.3f}, {:.3f}, mean vol_pred = {:.3f}, {:.3f}'.format(get_metric(gt_vol_luna, '95ci')[0], get_metric(gt_vol_luna, '95ci')[1], get_metric(pred_vol_luna, '95ci')[0], get_metric(pred_vol_luna, '95ci')[1]))\n",
    "print(\"Pearson corr = {:.3f},  P-value = {}, n = {}\".format(corr_luna, pvalue_luna,len(gt_vol_luna) ))\n",
    "print(\"MSE:  %.3f, MAE = %.3f, MAPE = %.3f\"%(mse(gt_vol_luna, pred_vol_luna), mae(gt_vol_luna, pred_vol_luna),  mape(gt_vol_luna, pred_vol_luna)))"
   ]
  },
  {
   "cell_type": "code",
   "execution_count": null,
   "metadata": {},
   "outputs": [],
   "source": [
    "plotter(gtx_luna, gt_luna, predictions_luna, name='_Luna16Test_finalSegs', save=False, y_idx=np.linspace(44,56,11)) #y_idx=[0,1,2,3,4,12,15,7,16,9,11,11]"
   ]
  },
  {
   "cell_type": "markdown",
   "metadata": {},
   "source": [
    "### 2b) Predict on PE test set:"
   ]
  },
  {
   "cell_type": "code",
   "execution_count": null,
   "metadata": {},
   "outputs": [],
   "source": [
    "predictions_PE = model.predict(np.array(testx_PE)[:,:,:,np.newaxis]).squeeze()\n",
    "gt_PE = np.array(testy_PE)\n",
    "gtx_PE=np.array(testx_PE)"
   ]
  },
  {
   "cell_type": "code",
   "execution_count": null,
   "metadata": {},
   "outputs": [],
   "source": [
    "# check to see if any of the gt volumes are zero, exclude these patients\n",
    "[i for i in range(len(gt_PE)) if np.isclose(gt_PE[i].sum(),0)]"
   ]
  },
  {
   "cell_type": "code",
   "execution_count": null,
   "metadata": {},
   "outputs": [],
   "source": [
    "# get total lung volume values:\n",
    "scale_factor = 512/256\n",
    "gt_vol_PE = [gt_PE[i].sum()*pixel_spacings_PE[i][0]*pixel_spacings_PE[i][2]*scale_factor_pre_PE[i]*(scale_factor*mag)**2 *1e-6 for i in range(len(gt_PE)) if not np.isclose(gt_PE[i].sum(), 0)]#i not in [78, 323, 446, 539] ]\n",
    "pred_vol_PE = [predictions_PE[i].sum()*pixel_spacings_PE[i][0]*pixel_spacings_PE[i][2]*scale_factor_pre_PE[i]*(scale_factor*mag)**2 *1e-6 for i in range(len(predictions_PE)) if not np.isclose(gt_PE[i].sum(), 0)]"
   ]
  },
  {
   "cell_type": "code",
   "execution_count": null,
   "metadata": {},
   "outputs": [],
   "source": [
    "# Check that data is from a normal distribution before getting 95% CI with all 3 tests:\n",
    "shapiro_wilk(gt_vol_PE), shapiro_wilk(pred_vol_PE), dAgostino_pearson(gt_vol_PE), dAgostino_pearson(pred_vol_PE), anderson_darling(gt_vol_PE), anderson_darling(pred_vol_PE)"
   ]
  },
  {
   "cell_type": "code",
   "execution_count": null,
   "metadata": {},
   "outputs": [],
   "source": [
    "# get metrics\n",
    "corr_PE, pvalue_PE = pearsonr(gt_vol_PE,pred_vol_PE)\n",
    "print(\"mean vol_gt = %.3f, mean vol_pred = %.3f\"% (np.mean(gt_vol_PE), np.mean(pred_vol_PE)))\n",
    "print('95% CI for mean vol_gt = {:.3f}, {}, mean vol_pred = {:.3f}, {:.3f}'.format(get_metric(gt_vol_PE, '95ci')[0], get_metric(gt_vol_PE, '95ci')[1], get_metric(pred_vol_PE, '95ci')[0], get_metric(pred_vol_PE, '95ci')[1]))\n",
    "print(\"Pearson corr = %.3f,  P-value = %.3f, n = %i\"% (corr_PE,pvalue_PE, len(gt_vol_PE) ))\n",
    "print(\"MSE:  %.3f, MAE = %.3f, MAPE = %.3f\"%(mse(gt_vol_PE, pred_vol_PE), mae(gt_vol_PE, pred_vol_PE),  mape(gt_vol_PE, pred_vol_PE)))"
   ]
  },
  {
   "cell_type": "code",
   "execution_count": null,
   "metadata": {},
   "outputs": [],
   "source": [
    "# processes (stretch and clip) PE data so that it looks right when plotted\n",
    "gtx_PE_processed = np.array([process_PE(i, gtx_PE, pixel_spacings_PE, slices_z) for i in range(0,200)])\n",
    "gt_PE_processed = np.array([process_PE(i, gt_PE, pixel_spacings_PE, slices_z) for i in range(0,200)])\n",
    "predictions_PE_processed = np.array([process_PE(i, predictions_PE, pixel_spacings_PE, slices_z) for i in range(0,200)])\n",
    "plotter(gtx_PE_processed, gt_PE_processed, predictions_PE_processed, y_idx=[0, 166, 22, 38, 39, 44, 56, 166, 121, 143, 149], name='PeTest_finalSegProcessed', save=False) "
   ]
  },
  {
   "cell_type": "markdown",
   "metadata": {},
   "source": [
    "### 2c) Predict on both PE and Luna16 test sets combined:"
   ]
  },
  {
   "cell_type": "code",
   "execution_count": null,
   "metadata": {},
   "outputs": [],
   "source": [
    "n_all = len(np.concatenate([pred_vol_luna, pred_vol_PE]))\n",
    "corr_all_ct, pvalue_all_ct = pearsonr(np.concatenate([pred_vol_luna, pred_vol_PE]),np.concatenate([gt_vol_luna, gt_vol_PE]))\n",
    "print(\"Synthetic: Pearson corr = {},  P-value = {}, n = {}\".format(corr_all_ct,pvalue_all_ct, n_all ))\n"
   ]
  },
  {
   "cell_type": "code",
   "execution_count": null,
   "metadata": {},
   "outputs": [],
   "source": [
    "## combined scatter plots:\n",
    "plt.figure(figsize=(10,4))\n",
    "plt.subplot(121)\n",
    "coef_luna_ct = np.polyfit(pred_vol_luna, gt_vol_luna,1)\n",
    "poly1d_fn = np.poly1d(coef_luna_ct) \n",
    "\n",
    "coef_PE_ct = np.polyfit(pred_vol_PE, gt_vol_PE,1)\n",
    "poly1d_fn = np.poly1d(coef_PE_ct) \n",
    "\n",
    "coef = np.polyfit(np.concatenate([pred_vol_luna, pred_vol_PE]) , np.concatenate([gt_vol_luna, gt_vol_PE]),1)\n",
    "poly1d_fn = np.poly1d(coef) \n",
    "plt.plot(np.concatenate([pred_vol_luna, pred_vol_PE]), poly1d_fn(np.concatenate([pred_vol_luna, pred_vol_PE])), 'k', label='f(x) = mx+b ; m={:.2f}, b={:.3f}'.format(coef[0], coef[1]), lw=1)\n",
    "\n",
    "plt.scatter([pred_vol_PE[i] for i in range(len(gt_vol_PE)) if gt_vol_PE[i] < 11.7], [gt_vol_PE[i] for i in range(len(gt_vol_PE)) if gt_vol_PE[i] < 11.7], label='PE', alpha=0.5)\n",
    "plt.scatter([pred_vol_luna[i] for i in range(len(gt_vol_luna)) if gt_vol_luna[i] <11.7] , [gt_vol_luna[i] for i in range(len(gt_vol_luna)) if gt_vol_luna[i] <11.7], label='Luna16', alpha=0.6)\n",
    "plt.title('Synthetic (n = {}): r = {:.3f} (P < 0.001)'.format(n_all, corr_all_ct))\n",
    "\n",
    "plt.legend(loc='upper left')\n",
    "plt.plot(range(0,17), range(0,17), 'k', alpha=0.2, lw=0.5)\n",
    "plt.ylabel('Ground Truth Volume [L] ')\n",
    "plt.xlabel('Predicted Volume [L] ')\n",
    "plt.xlim(0,11.99)\n",
    "plt.ylim(0,11.99)\n",
    "plt.grid(alpha=0.2)\n",
    "plt.subplot(122)\n",
    "plt.tight_layout(pad=1.0, w_pad=1, h_pad=1)\n"
   ]
  }
 ],
 "metadata": {
  "kernelspec": {
   "display_name": "Python 3 (ipykernel)",
   "language": "python",
   "name": "python3"
  },
  "language_info": {
   "codemirror_mode": {
    "name": "ipython",
    "version": 3
   },
   "file_extension": ".py",
   "mimetype": "text/x-python",
   "name": "python",
   "nbconvert_exporter": "python",
   "pygments_lexer": "ipython3",
   "version": "3.8.10"
  }
 },
 "nbformat": 4,
 "nbformat_minor": 4
}
